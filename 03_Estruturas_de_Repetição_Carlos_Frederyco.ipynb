{
  "nbformat": 4,
  "nbformat_minor": 0,
  "metadata": {
    "colab": {
      "name": "03 - Estruturas de Repetição - Carlos Frederyco",
      "provenance": [],
      "collapsed_sections": [],
      "include_colab_link": true
    },
    "kernelspec": {
      "name": "python3",
      "display_name": "Python 3"
    }
  },
  "cells": [
    {
      "cell_type": "markdown",
      "metadata": {
        "id": "view-in-github",
        "colab_type": "text"
      },
      "source": [
        "<a href=\"https://colab.research.google.com/github/Carlos-F-Braga/Teste-Python/blob/master/03_Estruturas_de_Repeti%C3%A7%C3%A3o_Carlos_Frederyco.ipynb\" target=\"_parent\"><img src=\"https://colab.research.google.com/assets/colab-badge.svg\" alt=\"Open In Colab\"/></a>"
      ]
    },
    {
      "cell_type": "markdown",
      "metadata": {
        "id": "IWT9kBSMTj2O"
      },
      "source": [
        "![image.png](data:image/png;base64,iVBORw0KGgoAAAANSUhEUgAAAIsAAAA+CAYAAAAbHug5AAAZyElEQVR4Ae1dCXgb1bV2l9fldYG2hJ00iR3bkmaVvMQhNrYlzWixHWeRbXkWLZY1Izl7IBTeaxso6Wv7KK8LtKUNpKEBgslia2THTgIpLYUGGqAtpaT08dqy9Gsp22splBJuvzPSKKPxSJZDVmN/3/3uMveee865/5y7nZHLWEF+ghXkF1hB/vMJDC+yfGJr2czfma0BVpDRyQgML//wzNbUDPdlWWty4gHDyUMz6j7DNTADljN8AE8m++9msDCR5CUeQX7YGFhBPuQR5P86meNwRvR10sDCS4+ebgpxCUlLwfUaL993uvF7yvmZBCyPeDnp2wwvf+cdBSGxmeHlxCkX1sAAyycrCoJFkAcN1WeyhcDiEWTkFKV101lDM2CZ4ugWA4tLkK+bIrkzqvoMWKY4XMXA4hblTVMkd0ZVnwHLFIfr3QwWRpDPLbJmuX2Kqpz+1U9XsGzcuPG9LfxKsqUr2uXiYmtae2IbFy0XN3oE6SpXMBZp7Qo1NQYis6Y4Qu9pbt74fqBdVlb2Hp/YX1kILB5evhvqQF1j0NGYUveOePzfFkUl0s33dzgD0T5ndyze2tMnsGK/yx9NzJsSsSlWhr5buyP2lkCog+mNqX2zfCLiFiQfG+y3ZXVSnOrpBpampb1NLcHIrZ5Q8g8wkJ5QErFiAnlDSdQWWZE7afaIScQI8t9ZXh5lg4kIDGxxScvKWFH6EivIzzOC/CwryED/j4XAotLO1HkG6usDK8rPMbz0g8n60567euJ+d2/8NoaXnveICeQREqpcalpMqDJB2h2M/ZLlYtc7l4mE1vadxs6uvs7m7vB2NpTI9A39Z0Oe7KL8DCskti5q62ov2OfpApYFSwSLh0+MAyi8oYEcKPIEMtxjgdAApEyQf9MeX8sUFLSsrIwR5DuL0Zvis4PF+oJnzqVcrZuXHoSdJcil8muQIdcnL2UAFF6BWF5CDCd91zt1y5ljaVFPuJnpjT3gCw8gX5Zmri8THoBH4A/qu4T4A81LYwtyxLTE6QAWX1dUZgXpbVAoK2TetGKCmT4TE6i9fy1ydkW/rslmjOGsyLStifImr5fYY6Svz7cPbLjeJ4Dyj1rDyWlmLnVh0EAXDC+96g6tcurplpL2x9ddB4NeFJyFZIa+s9ZvSeIzX8nr71SDpbqjK7S8fx3yigCUd3YDzvASWrbyalTHtl+ZJ2Q2c7LAssDbdX1n4opJBwve5qIyw8D1rUati3sWmsljVlbPLP3C0uSVxelO1i88F2W0JLkB1Xo6/zPXTzGwuITEmlzFE5A4C8c/0cHLyB9dWVA4WLPo3pC3M8otbH0YQUKL5ctRSwdfZWSZFaTdqrkFk5sNxQZLq2MWe4XEL430IU+7fcElySvUqSSPNi+p0yvIA9NsTiYxMzB5dXWD6Qmp1ukNujEw6WK+vq3LtzS5ASxSQX3mpm19H9l1kxkP8BI3C1KNKmshsKgNRXmY4WXOIyb4YwksL4nQrj0e/3czxV7WFfpBZ3wdYvj4ROEyAjzWHAivdgalBmdvYh7Tk7yE7ZZIFy+JDC/tMZ2yeAl1xNehxs7gA8Y+3by0zi1IB9QgSvvdgvRTMwVBGSPIf3aL0n6XIN2ba6O1hZiLf9lI3xtYOasTgCJMHCwAB8PF32aC/bc0Lea6m3r66OZgvBpkcwdliRXkvar5F9W+j+qDl1Bb32rU1CWmjf3p883Nze9nwsm/+9Wp3GCxstMaK8jPuHvjt7qF+AYmJCcYQbqK4aVtrJB4IQdeHYgAdDCNeiMDv1P7KgoWXcNCSi2l3BOW5+gFg7QrfuVZ7dGVpm9BhnHpGmMbY57h+qPqm2LCZ3v/GuRo9ZYb2+jzXm7lx8FqFJDhNn3dUtLOnviNmXVXPk3Y/XTE1j5d726bX4yOmx+I+aKrkBesjZ4vXlKtb3Mwfk6h9pTL7++Irsos9vVtYecVjiMnF7kets9m7ZsDgY86l0e+3B41WV9lgdbY1uM8Kc5PXi52sZFJd28iYDZQYHadPfGSt6WsGL/VDDDecBI5A8Xvtny9A5/OG5R8JW838lws3xwOf4gV5deM9AD4HkF+EaxOsfbas/mLPEF/dMXRaSrLE4CwJdi3QatnjJuCsW1tEeN0LiHQQ8tS6YvG+mZ5Z3zFzb5QZjeWJwfskkIDW04GWI6YgYUV5U3wxuUxBW8BnDf09lNmwpiVMUuyp7CGt5ERZOQPD2wza6OVHc/j/oXt3bVmVgXm/CauL6T1WUrs6pXGfeF83YCuGKGwa6qHi/+BNUxB3vAAcvfGMlNIKR2XlZW5e2MvG3dwMCYMH3/01IFFSG6Fg7WJYQCxgb5PliibWo3l5d96DGDxiQnk5KW9xegcT7A0Lw9xRguXfRler/Cu/GAxPozPGE6OGuXJbqX/aHb46I2snMWKiSNwPqN/+aCNk+//kpF+sXxrMHbXBLAIMnIL8u9OBlgQLEyNDDYEg9VMkHc7g0G3U40zaRfPN5spxNhen2eFxI/1SoI0gKWVixd1YDqeYHH3xK4Gk6/nA6ZZRpAe1vNaSrqpk2NgOs6jBQt+Xn5r4RLhXCONJiGmOnGZTetuPhEz1i+WZwXpfxjDiwd03YL8dlGwmHWuF6DUtEuIzy7G4Dt9xgryPjNeYBdTjPbxBEtTe/A6f9+qCQPMcP1TdlRf6O0uV6859GuorNXwxldOWLTXBkM2GKuJ07oMW3ixmA6Mz2DXyfZKi5mg1K4FD5/oYIKSuyBYoHNGSGxl+ORCLydf6j6GwPKJRmjnXVm6GW70Bma1dMV8LJ9czfbGN3kE+QZGkG9g+cRXzYJbkK+H+x4jWDJvw8kDi1uIXMMK+ZYFeGJ4uFdKbC4p8NJmXzi52d+3YsQ4pWjywWAaB7iR46yFwMKIiSmtl4y08/KFts4ZZcvr8yqfwExjR0+/N5QcVy/wcvc9+aZYU1gp8ckGi5MLXeMRS7vTKoX/QnUYITbXOAzFwOIR5LCx/jHni4LlJDg/2dmOiiUDVz7kU2+UM7uhQoqaSvkMWDJnNdMGLOeVl5/rj676qx8Ok/Tz83FIT1ewgA+O0TK8KyyLv2/NU4vl9cjNmRz3A2CK3FlMBq7TCCyvsmICrhUOTimIiYOsKB8NgvwQKyYOuqMrLnzXgaWhbdmKTvnyvON+OEiDQW6HwyU+voPh4iGPKDW4uDjO8hIJh3X6AGVqEOSnjOA52WBh+fC1rGBYs8A9D1fclcE48MeSvzR0/HZDRfs/VWuWDmndYZbLP0SCAXYJEqrh+qJFmTY8ZHnp0LGAxd0rzTe2gzxcoHlCiTsN3RTNNi/lvuAzu1vh5LGiDY/Dw9r2ZTb1WsHEEk91zeLqkfs9IfnXrCD/UheeYEVpf9Gt84ny7m/t7TO9k/GG4V6o+KmrmW49YvJh46CXYlnawqsyYDGefIYHkLMnCj64Jf+1BmL/YTyUU4EnyKauDMUIn19RMYv1+11OJ+tyOp1qYFm/q6XFDY5QE06Dm3vCc4zya3mGly4v1pfxmbtH2uIJGS4y4aqBl946JWBhgpFW0/UInFp2xae0XW/tDJV7oyue05SjxaWApdkXOJ/lpSNw5aC1gxi8zFp7olMa5BY+KhoPxYCuN5Q84nAFzjIOSrF8U2dvnz++HnnCK3KBVdMrERztG9sGAoEPeAT5Vb0MkIa7IWcwdo+xfrE8w0m/MMqhnvmEkk+cGrAs57yaI7ZeQGDSxceuKCaM9szZETzP2RP7LMP1vwUmWE8H0qWApWzjxveyYuIF8CMxtvf3rUYN3mW01t9kcSsftxvvc4CmP5xEC7ui35isvf75orbgVn9stc6/OHvBKiReCgQC79PX1dKe0MD9ILNeDrgy8IhxVO/iJvrTag118YKlva6JN9cZ/2EX1z9+asAixOv1QunTntDAz3T8T0jCpdxlXeK1vlDyNdWLDqyRYRoBeiWBpaysrKkn+lO/iYM4eLO1LA+9UOdblvESm8BJfgF8HuIRkq+aA2YAtQn9/fktzHOe8KoeXwT8fPJ3iOpdFy+PmrcqK1u4pHsdWES9LiENLwITWvHaZeJAQ6G2UL7Q10s1dYXe8E/wGU4gONpY2L5s1SkCy+Uf8YYHjhgFgzwoqrEz+EXjG9TaHS9v6Qp/1hNKPqv665pYAz29UsHSwSXXt8fWTNi+Z7zEBlRTzvLSj1le/h5cPagXbULy6x4hcdQ3NTsKLV2xTf5I/pQGPIHF9IOrQlfoxhZeIs0GzRmQrC3Lwzf6ItmvFXRWAo4WvJEVaEniioBZWyi7tKPnQph29DrQ0gBgL/gJdUe+5gzG3OCM1h6Mn6N6H3IJr7M7ehPcUPsjK/J2p1p7f3gA+Xt7P3FKwALCeboiKZ/hllZjLjut/IEVE2k315929/b/QvVdBZcGow9MAdCUCpY5zc0fuiwQftnM/AI/6i5DN3AajxAbB051gApJLxRyPlddFMUEcnHxJ11cbI9HTO5iOHmfuzf+G+jHG5k42ADatthqeInAPaHoX0dPYnObmERuE7dO4DfP91eQX9dkUS20iR7BurWB517/+s+pHZ+qrfPs+karv2+NiniN6aNx9thf+5bGsABV66lvC3wuEYdp6P+Pts0dc4PSit46a5qvXt6zsDOyaoJ3mpFmfj7xtNZeHzf4wrg/UvzaQgW+epYkZcBocEfQ9wPXIOCDa1vorNX3UyjdLMSfaDM4QenplZoGkHbK6xETjB11sThVYAFhG3tjm9r1nu4F3mCjgDCHqu6Xwfh9Lcsi9Qwfv8+4yC3VsmhKd/XGRF8oO+2UxIc5WIAeE+5rB7Oeue/KX3QaZSmWh604fAu10Ld8scbnZDEVDp+9TEw+ZerMXpJcGX7bwaJEVv7+4xdffNQRjRWkl80YVpUtSlPysppMELPnHk66keUzJtKMD60MwADrGZiXW7tC9zV2hpZp9FhBflKrp8VZsPxYq1NK7O7pc7qCffeq00V20WsEoUYfPn8tRtPdE61pCYT3AM8QdO0mTcOWW12sctJ+57LYlD9lBQdsV7DvFpADrFipfcMUD/LCGsfXt/amei/38TwZCxHKgEX+Zl7lE5RpXMZ3soL8iDowMHeKmbUCvJ3wWYUnrH47dMTV0zfUslyc8JaZWccsWKZ0VqKJ17qc8zq5/i2smDjMCnL2W6V8CwGuFFr9YnHTslBXa1d4r3qWo8p1lM7RtULmmyLYuXhDyX+6gv1pJ9ffVoxuKc8ubecWtHSFBr3hgX8Yz7VAtxqQMgBRQfJXlktsb+3pN/+oDRyUPJzkZAS5VR88oQGnNxSf4JVVCpPHWsfDx5pZQd7ACvJ3XVzsdlcweqtXXHGtMxDpXri099OF6DJCvN4oA+RZPm4v1KbU8kvbArOd3eFa0IfWhxrzSXOFFiAMfigMlwi5Ofl6NiQPegT5Hnew/wDDxccZMfkDJth3XWNXdFlDQLyoAIljLmb5+AUs39/FCvKX4XtvRpDvcQVjB9y9/Xs9grTNK8rXXhYQl9QtET91zJ3MNJzRwIwGZjQwo4EZDcxo4Jg0cGBO84fGCeIjgw0NH9YHKDvQ3Pz+QkRHKyo+OFJbe36h58dSbsbLAw0NHwZejoXeTJvjqIHBQOB9Ck49ruDUSwpO/UXBqRez4aUUTr2i4NTzCkH98Fc1DZK+29EKR7mCU8+O2Wvf3DZ7bkl3Ofr2hdIKTj2m4NTLZrykCOp3CkbuuMtmaynUfqb8BGogC5Z/KBiJFNKO0nQNUtM4hRScQmmCRmmcRg/aa9EN5ZXf1Vj5eU1dcJSgkULQaIxy/FQrf6exglN/g37NwihpRyPAY0092j23gn+nfRVqP2yjLlUIWkzh1GJUwk+qFaIz7cqzYHkuTdpRqsr6J8WKrxupqVubsuFrUzi5No1TNyik/a0hnEIHHbXoOxWWPlDCboo6exAjB/c5Ftz/rVkXNB4vxSg49XsVKBj1goKT61QeCGpNCiMuH7YRd6QAvIQdKQSFhsvLK45Xv3o6Ck7/SAMr6Ef/7F2dzoHFUYeG51Y8ZqaMO+fObVQI+u1xqgbeeNM6Zu2OpUwDSwqjfmXW/pbyik3jlAOBldmF0yfk1DyNU1syYKGLnjyb8Tety3JgsdeCZfl1IWF32oifwwCNU45XwDR/o6zsgwqOcwpOcXvs9gnH7Fuqq5u3W7GVoyT9uREbufb2SouvEG19uQYWBaOe0pdr6cHzK2alcAqNkA60q9q2E8qHSJJNY2RUwSj49rtsx5zK6iGLJTlkwZZo7SDeaSEW7LLgA2ngCafX7bRgfv3zFEnaUjgeTuHUw1nL8hLQVcswUlAcjtwPLQ1aHbNTFkxQCOqqNEZcfUe1LbS1kjzuh4R6/k55ulSwKDbyMChwBKdfBqaHMOwSBYf1DIVSOHWDJohKDyN3jxJ2NEbSUF9d18Da50F77U/+u7x8wsfqWluIJwPL5rlzP70H1i0EjUYJWv2xZgBWmqBQCqPuT1mpMKyjYFpNE/RvNNoKTn8fpi4AmboOIygEdHY66g9uOfvss6Feuq7hm9r0Y4x3EzTaX19/HtS767wLo+ma+n9CP0Azw4sdZH1jlxWTtT6nXZwDS5FpaMucOT3jsLgkaDSMkeqF4y6SrASFAlhGacdnNcUMW7GxNOlA43QNGiboZ3fasDGFoJ5MUw50H12L7rRiv91YVgY/xGz6lwMLTj9uVuF78yq2Ae0Rwo7usBFJqDNC0PdnBpd8HdYzABTIjxD0Pni+u4q4CcB0D12L9uD0oZ0WbHMKo/aOETQar1mAUnPmHYJ6e+iaoELQv1Zw6tUsWN6EnWIap351v6PuEahzxUUXUffba1WAqGDByHuHbMT+DAAzfQ9X2Tqg7rT7y4Els8D9c9qKXa046q9SMOKqUYK4eoeN2DyUBQrsinZZrYtACTtI0qaBZYR0qJ5wt19ySROUjdE16I7yiq03Oxy5n9pS5lV8foig0QGqBo3iVMGt9lGwUC+mrbZrFCu2EcIuK7YpjdM/ulcFCo1SGPGXjRdeqE4L+wl7ZkEKbzpGHBm22K4dsuCuFEHM3Tkfn6dgFNpL16Cvz57zbf0AfmPevCgM8ri9Fm0tL/dqz9IYeWcWLM9oZVr8tSrLowfsdSiFkX/aXVlZp5WP2WykYsOfUXeUpL3gdK7VPyNjDSzqdplyoDRdm9s6w9pgD0GrFgWmnBRO5T4cH7TZrBpYFJxUwTJG116bNf9vmCkjhZHPwtZ3hKAL/qyYDixIUXc9DpQiMltmbfrZQ9Av7rBYcr85p9joH6lTD04/n6qqyvsYPo2RPFgVaHtzFlx63hScfGo/XYO+U2XJ/Y7taAGwpGfjnzhAOtAwTqNhGz7hZ8jurqzeOEo5wKr9Vd/HtEnnwJI523hTcdQ+rRD2/1Uw8uns24UUnH59qBrH9UKbgUXB6S9AmxRGmro1Khj5KLzJKRtZCljeVGzEYQUjnkzbyMPDNuLwHpz6yXYbdt1t5UTeuicDFnXtNOEHiRSc6lV5wkm0j6y5dxyzp1IYMTKCUekxnB5ScOpI5qWw36TJp+DU3VnZnwX95MpJ8iJNJwBCrVyLh2z4WpAPpjGtbFrFGljgMG543vw883lfTe3NYAlSoFCrNc83xhQsBLUxq8znza4JRnD6sWFYiNqIgv9FJGdZsKOL08kUroFFwamHjHUVjOzWBhgWo3kBrCVGvZbCyReHbI6M72xmkW0KljGL4wIAF9BIVR+1slqfo6RjfQojQV+vaGXTKs6BxVGHUhXVeWcbG84552O7rfiRMfV8hX5dL7gZWNKEfRO8WcMY+ZK+rpbehZOPw3QwilEF/01eDiw26rDWbrK4GFjSpJ3PgIVEirWmbnCe46xBm+2TYzbbJ7WtMOhAD+40oVocsBC/1/e902K5AKY01TpipKB/BulRi20NrFmm/TSUhnOWyonnLEMWyyAsWOFtGrZSnKYgM7CM4vYVYInGSDu66dxz8xyeBi666FNDGPn3/VQN2o5R39LoGOMcWAqcsxjrQ74YWHZbLJ2wjhohabS9wjLBwSttI+4YsdeMD1VU5n5PTsGpXbD7227FYe2R+w8qg1brB/bi9jcVkoadnnrGo+dn23zr3XBgCHdb+vJpk85ZlgJgSRM1mPq2wN0RTv1JE3yH1ZrbDe2hM7uhmz/2sXOGbLi6bb7Dgr2yw4KtHsXpy/bgVHiHlXgazl7gPmlrVdWEQzyN7vEGy+C8eWeNUvY34UBxp8X2f8NWnBvBcXxrVVXLYGX1rhFYxJN2NISR3RoPOyxEAuoPYxTaaSMOpnDycw84aj8DzzdUVH7+wboG0AUarrZuG5pvcY0S9tY7bdjmu2yESitF2rdotKZVnAULUuy1SKm0/M1MuK3zyvfdY69TFQR3RVBnu40mQWFwzjJCOr6qtdtpwZbAWccYmTmST2HqeQfaTznQPkc9umu+ZcIuQmsLcW59gVH/0JcXSysY9Vt1LYJTz5nVu+vii32jjgUIdipwPqOeAMOhHglWgEY7bHjughTaw5Y/jVOPjxF2dfCBp71UDbqlqkr9vZfRSsujo/Za9coBdmxAD6wphBROPTFotX7UjI8zvgwOyBScGhm11x4aqrSYriW2l5djo1TNQwpO/kzBMwddu8rLz1Vw8qE0Th8axsi8n/1IWclFCk6MZK0E3CI/v8uGH9iNU52TKUzB6JSC04dS2EQzX6htykbdrBDUIwpOfb9QndswumaPjbhbBRamHro9N4JTP7zbiue5XmjtB8vK3ret2nrVKE7tBbmHcerh/bWL1B80BJ2lqbobdmP0L2DKybpyPD5sxb6inS39C97BEmvzGPxeAAAAAElFTkSuQmCC)\n",
        "#03 - Estruturas de Repetição\n",
        "## Linguagem de Programação III (Prof. Dr. Henrique Dezani)\n",
        "Curso de Tecnologia em Informática para Negócios da Faculdade de Tecnologia de São José do Rio Preto"
      ]
    },
    {
      "cell_type": "markdown",
      "metadata": {
        "id": "Bu_cUAtKULLJ"
      },
      "source": [
        "## 1. Estrutura de repetição while"
      ]
    },
    {
      "cell_type": "markdown",
      "metadata": {
        "id": "AJD9xRDWI2tK"
      },
      "source": [
        "Testando com `if`, `elif` e `else` é executado de cima para baixo. Às vezes, precisamos fazer algo mais de uma vez. Precisamos de um *loop*, e o mecanismo de *loop* mais simples do Python é `while`. "
      ]
    },
    {
      "cell_type": "markdown",
      "metadata": {
        "id": "YwnUV287YZay"
      },
      "source": [
        "A estrutura de repetição `while` em Python também avalia uma expressão e executa um bloco **até que** esta seja avaliada como falsa (`False`), tenha uma chamada `break` ou levante uma *exceção* sem tratamento. Portanto, esta estrutura de repetição é chamada de estrutura de repetição com teste lógico. Execute o próximo exemplo, que é um *loop* simples que imprime os números de 1 a 5."
      ]
    },
    {
      "cell_type": "code",
      "metadata": {
        "id": "foKq0c6HJD-4",
        "colab": {
          "base_uri": "https://localhost:8080/"
        },
        "outputId": "438e765c-f3c5-4461-ed6a-17bddc20f8bc"
      },
      "source": [
        "count = 1\n",
        "while count <= 5:  \n",
        "  print(count)\n",
        "  count = count + 1 # count += 1 # Não existe no Python: count++"
      ],
      "execution_count": null,
      "outputs": [
        {
          "output_type": "stream",
          "name": "stdout",
          "text": [
            "1\n",
            "2\n",
            "3\n",
            "4\n",
            "5\n"
          ]
        }
      ]
    },
    {
      "cell_type": "markdown",
      "metadata": {
        "id": "KMZkvKpJViD_"
      },
      "source": [
        "Neste exemplo, primeiro atribuímos o valor 1 à varivel `count`. O *loop* `while` comparou o valor de `count` a 5 e continuou se `count` fosse menor ou igual a 5. Dentro do *loop*, imprimimos o valor de `count` e, em seguida, incrementamos seu valor em 1 com a instrução `count += 1`. Python retorna para o topo do *loop*, e novamente compara `count` com 5. O valor de `count` agora é 2, então o conteúdo do *loop* `while` é novamente executado e a contagem é incrementada em 3.\n",
        "\n",
        "Isso continua até que a contagem seja incrementada de 5 a 6 na parte inferior do *loop*. Na próxima passagem pelo topo, a `contagem <= 5` agora é `False` e o *loop* `while` termina."
      ]
    },
    {
      "cell_type": "markdown",
      "metadata": {
        "id": "kdI0acWAaAqx"
      },
      "source": [
        "### 1.1. Cancelarndo o *loop* com `break`"
      ]
    },
    {
      "cell_type": "markdown",
      "metadata": {
        "id": "kaH4lFglaEXJ"
      },
      "source": [
        "Se você deseja fazer um *loop* até que algo ocorra, mas não tem certeza de quando isso pode acontecer, você pode usar um *loop* infinito com uma **declaração de interrupção**. Desta vez, leremos uma linha de entrada do teclado por meio da função `input()` do Python e a imprimiremos com a primeira letra maiúscula. Interrompemos o *loop* quando uma linha contendo apenas a letra q é digitada:"
      ]
    },
    {
      "cell_type": "code",
      "metadata": {
        "id": "Mnptyr-_acCp",
        "colab": {
          "base_uri": "https://localhost:8080/"
        },
        "outputId": "f445db25-97e3-4a47-aaab-5c209feff36d"
      },
      "source": [
        "while True:\n",
        "  texto = input('Digite uma palavra [digite s para para sair]: ')\n",
        "  if texto == 's':\n",
        "    break\n",
        "  print(texto.capitalize())"
      ],
      "execution_count": null,
      "outputs": [
        {
          "name": "stdout",
          "output_type": "stream",
          "text": [
            "Digite uma palavra [digite s para para sair]: S\n",
            "S\n",
            "Digite uma palavra [digite s para para sair]: S\n",
            "S\n",
            "Digite uma palavra [digite s para para sair]: s\n"
          ]
        }
      ]
    },
    {
      "cell_type": "markdown",
      "metadata": {
        "id": "s1z6FJ22bC5P"
      },
      "source": [
        "### 1.2. Avançar o loop com `continue`\n",
        "Às vezes, você não deseja sair de um *loop*, mas quer pular para a próxima iteração por algum motivo. Aqui está um exemplo artificial: vamos ler um número inteiro, imprimir seu quadrado se for ímpar e pular se for par. Novamente, usaremos q para interromper o *loop*:"
      ]
    },
    {
      "cell_type": "code",
      "metadata": {
        "id": "PZcToPcOFFhY",
        "colab": {
          "base_uri": "https://localhost:8080/"
        },
        "outputId": "b951cc2e-7d6b-4502-c5eb-a7b98b5ab3f1"
      },
      "source": [
        "while True:\n",
        "  texto = input('Digite uma número inteiro [digite s para para sair]: ')\n",
        "  if texto == 's':\n",
        "    break\n",
        "  numero = int(texto)\n",
        "  if numero % 2 == 0:\n",
        "    continue\n",
        "  print(numero * numero)"
      ],
      "execution_count": null,
      "outputs": [
        {
          "name": "stdout",
          "output_type": "stream",
          "text": [
            "Digite uma número inteiro [digite s para para sair]: s\n"
          ]
        }
      ]
    },
    {
      "cell_type": "markdown",
      "metadata": {
        "id": "43AoPghocZMi"
      },
      "source": [
        "### 1.3. Verificar se `break` foi utilizado com `else`\n",
        "Se o *loop* `while` terminou normalmente (sem chamada de interrupção - `break`), o controle passa para outro opcional. Você pode usar isso quando codificar um *loop* `while` para verificar se há alguma restrição e avisar assim que é encontrada. O `else` seria executado se o *loop* `while` fosse concluído, mas a restrição não fosse encontrada. Confira o exemplo a seguir:"
      ]
    },
    {
      "cell_type": "code",
      "metadata": {
        "id": "JmWUN3XtT3yw",
        "colab": {
          "base_uri": "https://localhost:8080/"
        },
        "outputId": "864e0c62-64f0-4fc2-acfa-7528f41795b2"
      },
      "source": [
        "numero = int(input('Digite um número: '))  # 7\n",
        "\n",
        "contador = numero-1 # contador = 6\n",
        "\n",
        "while contador > 1:\n",
        "  if numero % contador == 0:\n",
        "    print('{} não é um número primo.'.format(numero))\n",
        "    break\n",
        "  contador -= 1\n",
        "else: # só será executado se não foi executado o break anteriormente.\n",
        "  print(f'{numero} é um número primo.')"
      ],
      "execution_count": null,
      "outputs": [
        {
          "output_type": "stream",
          "name": "stdout",
          "text": [
            "Digite um número: 2\n",
            "2 é um número primo.\n"
          ]
        }
      ]
    },
    {
      "cell_type": "markdown",
      "metadata": {
        "id": "oC31JMwaFzdZ"
      },
      "source": [
        "Para relembrar! Uma característica marcante de Python é: a definição dos limites do início e fim dos blocos são feitas com **indentação**. Sempre que andamos espaços para a direita, estamos definindo um novo bloco. Já quando voltamos os espaços, significa que aquele bloco terminou."
      ]
    },
    {
      "cell_type": "markdown",
      "metadata": {
        "id": "fVzxciCZea46"
      },
      "source": [
        "##2. Exercícios\n"
      ]
    },
    {
      "cell_type": "markdown",
      "metadata": {
        "id": "lK34zdC6fLJE"
      },
      "source": [
        "### 2.1. Exercício 1: Faça um programa que cadastre o estado civil de uma pessoa, entretanto, o programa deve continuar perguntando enquanto o valor informado for diferente de \"solteiro\" ou \"casado\"."
      ]
    },
    {
      "cell_type": "code",
      "metadata": {
        "id": "Qr97uoAagG_f",
        "colab": {
          "base_uri": "https://localhost:8080/"
        },
        "outputId": "512deff1-2cad-4892-e182-c0647c55e245"
      },
      "source": [
        "ec = input('Digite seu Estado Civil: ')\n",
        "\n",
        "\n",
        "while not ec == \"casado\" and not ec == \"solteiro\":\n",
        "  ec = input('Digite seu Estado Civil: ')\n",
        "\n",
        "print(f\"Muito obrigado pela informação, seu Estado Civil é {ec}\")"
      ],
      "execution_count": null,
      "outputs": [
        {
          "output_type": "stream",
          "name": "stdout",
          "text": [
            "Digite seu Estado Civil: solteiro\n",
            "Muito obrigado pela informação, seu Estado Civil é solteiro\n"
          ]
        }
      ]
    },
    {
      "cell_type": "markdown",
      "metadata": {
        "id": "vosNGm5BfaQD"
      },
      "source": [
        "### 2.2. Exercício 2: Faça um programa que leia um número qualquer e mostre o seu fatorial. \n",
        "\n",
        "Exemplo:  5! = 5 x 4 x 3 x 2 x 1 = 120\n",
        "\n",
        "Input: 5\n",
        "\n",
        "Output: 120"
      ]
    },
    {
      "cell_type": "code",
      "metadata": {
        "id": "CQlkVZWxf8v4",
        "colab": {
          "base_uri": "https://localhost:8080/"
        },
        "outputId": "e5024c13-3437-461c-d848-ddff109873d9"
      },
      "source": [
        "n = int(input('Digite um número: '))\n",
        "ni = n\n",
        "cont = n\n",
        "while cont > 0:\n",
        " cont = cont - 1\n",
        " if cont > 0:\n",
        "  n = n * cont\n",
        "\n",
        "\n",
        "print(f\"O Fatorial de {ni} é igual a {n}\")"
      ],
      "execution_count": null,
      "outputs": [
        {
          "output_type": "stream",
          "name": "stdout",
          "text": [
            "Digite um número: 15\n",
            "O Fatorial de 15 é igual a 1307674368000\n"
          ]
        }
      ]
    },
    {
      "cell_type": "markdown",
      "metadata": {
        "id": "6uWVM2ZEgODD"
      },
      "source": [
        "### 2.3. Exercício 3: Faça um programa que leia um número inteiro N e mostre na tela os N primeiros números da Sequência de Fibonacci. \n",
        "\n",
        "Input: 7\n",
        "\n",
        "Output: 0 -> 1 -> 1 -> 2 -> 3 -> 5 -> 8"
      ]
    },
    {
      "cell_type": "code",
      "metadata": {
        "id": "bhFzfmzBg-tw",
        "colab": {
          "base_uri": "https://localhost:8080/"
        },
        "outputId": "1eb1bc93-946f-4e91-ad0a-585f510125e4"
      },
      "source": [
        "n = int(input(\"Quantos números? \"))\n",
        "\n",
        "n1, n2 = 0, 1\n",
        "cont = 0\n",
        "\n",
        "\n",
        "if n <= 0:\n",
        "   print(\"Digite um valor positivo de números: \")\n",
        "\n",
        "elif n == 1:\n",
        "   print(f\"Primeiro termo da sequência de Fibonacci: {n1}\")\n",
        "else:\n",
        "   print(\"Sequência de Fibonacci até o núemro desejado:\")\n",
        "   while cont < n:\n",
        "       print(n1)\n",
        "       nn = n1 + n2\n",
        "       n1 = n2\n",
        "       n2 = nn\n",
        "       cont = cont + 1"
      ],
      "execution_count": null,
      "outputs": [
        {
          "output_type": "stream",
          "name": "stdout",
          "text": [
            "Quantos números? 10\n",
            "Sequência de Fibonacci até o núemro desejado:\n",
            "0\n",
            "1\n",
            "1\n",
            "2\n",
            "3\n",
            "5\n",
            "8\n",
            "13\n",
            "21\n",
            "34\n"
          ]
        }
      ]
    },
    {
      "cell_type": "markdown",
      "metadata": {
        "id": "whp29KGtSumL"
      },
      "source": [
        "##3. Estrutura de repetição for"
      ]
    },
    {
      "cell_type": "markdown",
      "metadata": {
        "id": "W9iVkE7DSumL"
      },
      "source": [
        "Python faz uso frequente de iteradores, por um bom motivo. Eles possibilitam percorrer estruturas de dados sem saber quão grandes elas são ou como são implementadas. Você pode até iterar sobre os dados criados em tempo real, permitindo o processamento de fluxos de dados que, de outra forma, não caberiam na memória do computador de uma só vez."
      ]
    },
    {
      "cell_type": "markdown",
      "metadata": {
        "id": "YHYhmx1ASumM"
      },
      "source": [
        "Estruturas de dados de listas são um dos objetos iteráveis do Python, além de strings, tuplas, dicionários, conjuntos e outros elementos. A iteração de tupla ou lista produz um item de cada vez. A iteração de `string` produz um caractere por vez, conforme mostrado aqui:"
      ]
    },
    {
      "cell_type": "code",
      "metadata": {
        "id": "64lIQ3yoSumM"
      },
      "source": [
        "texto = \"Hello World\" # string = conjunto de caracteres ['H', 'e', 'l', 'l', 'o', ' ', 'W' ...] # C char[10]\n",
        "\n",
        "for caractere in texto:\n",
        "  print(caractere, end='\\t')"
      ],
      "execution_count": null,
      "outputs": []
    },
    {
      "cell_type": "code",
      "metadata": {
        "id": "VluMAaOviLG7"
      },
      "source": [
        "len(texto)"
      ],
      "execution_count": null,
      "outputs": []
    },
    {
      "cell_type": "code",
      "metadata": {
        "id": "RWLjoS-FiFIj"
      },
      "source": [
        "for i in range(len(texto)):\n",
        "  print(texto[i], end='\\t')"
      ],
      "execution_count": null,
      "outputs": []
    },
    {
      "cell_type": "code",
      "metadata": {
        "id": "D778f35xYUlP"
      },
      "source": [
        "lista_numeros = [1, 2, 4, 6, 3, 9, 7]\n",
        "\n",
        "for numero in lista_numeros:\n",
        "  print(numero, end=' ')"
      ],
      "execution_count": null,
      "outputs": []
    },
    {
      "cell_type": "code",
      "metadata": {
        "id": "A8lNNSDZYmLk"
      },
      "source": [
        "lista_frutas = ['morango', 'banana', 'melão', 'abacaxi']\n",
        "\n",
        "for fruta in lista_frutas:\n",
        "  print(fruta)"
      ],
      "execution_count": null,
      "outputs": []
    },
    {
      "cell_type": "code",
      "metadata": {
        "id": "iozwDJdabBUl"
      },
      "source": [
        "list(range(4))"
      ],
      "execution_count": null,
      "outputs": []
    },
    {
      "cell_type": "code",
      "metadata": {
        "id": "BD-nYRNIbM2D"
      },
      "source": [
        "tamanho = len(lista_frutas)\n",
        "tamanho"
      ],
      "execution_count": null,
      "outputs": []
    },
    {
      "cell_type": "code",
      "metadata": {
        "id": "GLpJJofAbSEm"
      },
      "source": [
        "for i in range(tamanho):\n",
        "  print(lista_frutas[i])"
      ],
      "execution_count": null,
      "outputs": []
    },
    {
      "cell_type": "code",
      "metadata": {
        "id": "okEXz2GCjGn9"
      },
      "source": [
        "nomes = ['Marilla', 'William', 'João', 'Luis', 'Raul']\n",
        "\n",
        "for nome in nomes:\n",
        "  for caractere in nome:\n",
        "    print(caractere, end = ' ')\n",
        "  print()"
      ],
      "execution_count": null,
      "outputs": []
    },
    {
      "cell_type": "markdown",
      "metadata": {
        "id": "EwoZlEN3SumM"
      },
      "source": [
        "###3.1. Gerar sequências numéricas com range()"
      ]
    },
    {
      "cell_type": "markdown",
      "metadata": {
        "id": "rzEn0n33SumM"
      },
      "source": [
        "A função `range()` retorna um fluxo de números dentro de um intervalo especificado. sem primeiro ter que criar e armazenar uma grande estrutura de dados, como uma `lista` ou `tupla`. Isso permite criar grandes intervalos sem usar toda a memória do computador e travar o programa.\n",
        "\n",
        "O uso da função `range(valor_inicial, valor_final, etapa)`. Se você omitir o valor_inicial, o intervalo começará em 0. O único valor necessário é valor_final; sendo que o último valor criado será imediatamente antes do valor_inicial. O valor padrão da etapa é 1, mas você pode retroceder com -1."
      ]
    },
    {
      "cell_type": "code",
      "metadata": {
        "id": "P2jTmwjvSumM"
      },
      "source": [
        "# usando a estrutura de repetição while:\n",
        "\n",
        "contador = 0\n",
        "while contador < 5:  \n",
        "  print(contador)\n",
        "  contador += 1"
      ],
      "execution_count": null,
      "outputs": []
    },
    {
      "cell_type": "code",
      "metadata": {
        "id": "lJDIJDaFSumN"
      },
      "source": [
        "# usando a estrutura de repetição for e a função built-in range:\n",
        "for numero in range(0, 5):\n",
        "  print(numero)"
      ],
      "execution_count": null,
      "outputs": []
    },
    {
      "cell_type": "code",
      "metadata": {
        "id": "J9dD8ahUSumQ"
      },
      "source": [
        "# usando a estrutura de repetição for e a função built-in range:\n",
        "\n",
        "for i in range(0, 5, 1):\n",
        "  print(i)"
      ],
      "execution_count": null,
      "outputs": []
    },
    {
      "cell_type": "code",
      "metadata": {
        "id": "G2td4_oPanFW"
      },
      "source": [
        "for i in range(5, 0, -1):\n",
        "  print(i)"
      ],
      "execution_count": null,
      "outputs": []
    },
    {
      "cell_type": "code",
      "metadata": {
        "id": "RYs0AUiGSumP"
      },
      "source": [
        "# for(int i = 0; i < 10; i++)\n",
        "for i in range(0, 10, 1):\n",
        "  print(i)"
      ],
      "execution_count": null,
      "outputs": []
    },
    {
      "cell_type": "code",
      "metadata": {
        "id": "QZiuW4xVSumQ"
      },
      "source": [
        "# for(int i = 4; i < 22; i+3)\n",
        "for i in range(4, 22, 3):\n",
        "  print(i)"
      ],
      "execution_count": null,
      "outputs": []
    },
    {
      "cell_type": "code",
      "metadata": {
        "id": "PWpdias1SumQ"
      },
      "source": [
        "# for(int i = 10; i > 0; i--)\n",
        "for i in range(10, 0, -1):\n",
        "  print(i)"
      ],
      "execution_count": null,
      "outputs": []
    },
    {
      "cell_type": "code",
      "metadata": {
        "id": "TNrpGRPUSumQ"
      },
      "source": [
        "rows = range(1,4)\n",
        "cols = range(1,3)\n",
        "\n",
        "for row in rows:\n",
        "  for col in cols:\n",
        "    print(row, col, end='  ')\n",
        "  print()"
      ],
      "execution_count": null,
      "outputs": []
    },
    {
      "cell_type": "markdown",
      "metadata": {
        "id": "pA6i-O56SumQ"
      },
      "source": [
        "###3.2. Função `enumerate()`\n",
        "\n",
        "Muitas vezes precisamos enumerar os elementos, ou seja, além do elemento, queremos o seu índice. Com o comando `for` e a função interna `enumerate()` , isso torna-se simples. Veja o exemplo abaixo:"
      ]
    },
    {
      "cell_type": "code",
      "metadata": {
        "id": "DQ3a-SdVSumR"
      },
      "source": [
        "lista_numeros = [1, 2, 7, 4, 5]\n",
        "for indice, valor in enumerate(lista_numeros):\n",
        "  print(indice, valor)"
      ],
      "execution_count": null,
      "outputs": []
    },
    {
      "cell_type": "code",
      "metadata": {
        "id": "9F5G32cycb4b"
      },
      "source": [
        "for indice, valor in enumerate(lista_frutas):\n",
        "  print(indice, valor, lista_frutas[indice])"
      ],
      "execution_count": null,
      "outputs": []
    },
    {
      "cell_type": "markdown",
      "metadata": {
        "id": "bq92SmUcSumR"
      },
      "source": [
        "###3.3. Continue, break e else."
      ]
    },
    {
      "cell_type": "markdown",
      "metadata": {
        "id": "PDaI7oVISumR"
      },
      "source": [
        "**Cancelar com `break`**\n",
        "\n",
        "Uma quebra em um *loop* `for` interrompe o *loop*, como ocorre durante um *loop* `while`. \n",
        "\n",
        "**Ignorar com `continue`**\n",
        "\n",
        "A inserção de um `continue` em um *loop* `for` salta para a próxima iteração do *loop*, assim como por um *loop* `while`.\n",
        "\n",
        "**Verificar uso do `break` com `else`**\n",
        "\n",
        "Semelhante a `while`, `for` tem um opcional `else` que verifica se o `for` foi concluído normalmente. Se `break` não foi chamado, a instrução `else` é executada."
      ]
    },
    {
      "cell_type": "code",
      "metadata": {
        "id": "fMYDbgQgSumR"
      },
      "source": [
        "for numero in range(0, 10):\n",
        "  if numero < 5:\n",
        "    continue # ignora o código posterior a ele (retoma o for)\n",
        "  \n",
        "  print(numero)"
      ],
      "execution_count": null,
      "outputs": []
    },
    {
      "cell_type": "code",
      "metadata": {
        "id": "bfSbYOsUSumS"
      },
      "source": [
        "texto = \"Fatec\"\n",
        "\n",
        "for caractere in texto:\n",
        "  if caractere == 'x':\n",
        "    print('O texto contém a letra x.')\n",
        "    break\n",
        "\n",
        "else:\n",
        "  print('O texto não contém a letra x.')"
      ],
      "execution_count": null,
      "outputs": []
    },
    {
      "cell_type": "code",
      "metadata": {
        "id": "Jqbj8kEISumS"
      },
      "source": [
        "texto = \"Fatec@RioPreto\"\n",
        "\n",
        "for caractere in texto:\n",
        "  if not caractere.isalnum(): \n",
        "    print('Caracter especial encontrado: {}'.format(caractere))\n",
        "    break\n",
        "else: # só será executado caso o break não seja executado dentro do for.\n",
        "  print('Não há caractere especial no texto')\n"
      ],
      "execution_count": null,
      "outputs": []
    },
    {
      "cell_type": "code",
      "metadata": {
        "id": "CHK8NFaKSumS"
      },
      "source": [
        "texto = \"Fatec$RioPreto\"\n",
        "\n",
        "tem_alnum = False\n",
        "\n",
        "for caractere in texto:\n",
        "  if not caractere.isalnum():\n",
        "    print('Caracter especial encontrado: {}'.format(caractere))\n",
        "    tem_alnum = True\n",
        "    break\n",
        "\n",
        "if not tem_alnum:\n",
        "  print('Não há caractere especial no texto')\n"
      ],
      "execution_count": null,
      "outputs": []
    },
    {
      "cell_type": "code",
      "metadata": {
        "id": "KcyWk0_hnAVZ"
      },
      "source": [
        "lista = [1, 2, 3, 4, 5]\n",
        "valor = 3\n",
        "\n",
        "for i in range(len(lista)):\n",
        "  if lista[i] == valor:\n",
        "    del lista[i]\n",
        "    break"
      ],
      "execution_count": null,
      "outputs": []
    },
    {
      "cell_type": "code",
      "metadata": {
        "id": "5KuSAAZMoEig"
      },
      "source": [
        "# RESUMO:\n",
        "lista = [1, 2, 3, 4, 5]\n",
        "\n",
        "for elemento in lista:\n",
        "  print(elemento)\n",
        "\n",
        "print()\n",
        "\n",
        "for i in range(0, len(lista), 1):\n",
        "  print(lista[i])\n",
        "\n",
        "print()\n",
        "\n",
        "for i, elemento in enumerate(lista):\n",
        "  print(i, elemento)"
      ],
      "execution_count": null,
      "outputs": []
    },
    {
      "cell_type": "markdown",
      "metadata": {
        "id": "GR5z-P96SumS"
      },
      "source": [
        "## 4. Exercícios"
      ]
    },
    {
      "cell_type": "markdown",
      "metadata": {
        "id": "xE_GY5D6SumS"
      },
      "source": [
        "### 4.1. Exercício 1: Crie um programa que escreva na tela todos os números pares no intervalo de 1 a 50."
      ]
    },
    {
      "cell_type": "code",
      "metadata": {
        "id": "jyh6cZttSumS",
        "colab": {
          "base_uri": "https://localhost:8080/"
        },
        "outputId": "838ab010-ac43-467d-d5b0-f9ca9e09a00d"
      },
      "source": [
        "for n in range(1, 51):\n",
        "  if n % 2 == 0:\n",
        "   print (f\"{n}\")"
      ],
      "execution_count": null,
      "outputs": [
        {
          "output_type": "stream",
          "name": "stdout",
          "text": [
            "2\n",
            "4\n",
            "6\n",
            "8\n",
            "10\n",
            "12\n",
            "14\n",
            "16\n",
            "18\n",
            "20\n",
            "22\n",
            "24\n",
            "26\n",
            "28\n",
            "30\n",
            "32\n",
            "34\n",
            "36\n",
            "38\n",
            "40\n",
            "42\n",
            "44\n",
            "46\n",
            "48\n",
            "50\n"
          ]
        }
      ]
    },
    {
      "cell_type": "markdown",
      "metadata": {
        "id": "M1EiIs0uSumT"
      },
      "source": [
        "### 4.2. Exercício 2: Faça um programa que leia um número inteiro e mostre na tela se é ou não um número primo."
      ]
    },
    {
      "cell_type": "code",
      "metadata": {
        "id": "6pgLo0eUSumT",
        "colab": {
          "base_uri": "https://localhost:8080/"
        },
        "outputId": "05ef1fe3-4e05-45c0-ca49-bcd4bd7be7fe"
      },
      "source": [
        "n = int(input('Digite um número: '))\n",
        "\n",
        "\n",
        "if n == 1:\n",
        "  print(f'{n} é um número primo.')\n",
        "\n",
        "else:\n",
        " if n == 2:\n",
        "  print(f'{n} é um número primo.')\n",
        " else:\n",
        "  for cont in range(2, n):\n",
        "   if n % cont == 0:\n",
        "     print(f\"{n} não é um número primo\")\n",
        "     print(f\"Valor do contador: {cont}\")\n",
        "     break\n",
        "   elif cont == n-1:\n",
        "    print(f'{n} é um número primo.')\n",
        "    print(f\"Valor do contador: {cont}\")\n",
        "    break\n"
      ],
      "execution_count": null,
      "outputs": [
        {
          "output_type": "stream",
          "name": "stdout",
          "text": [
            "Digite um número: 101\n",
            "101 é um número primo.\n",
            "Valor do contador: 100\n"
          ]
        }
      ]
    },
    {
      "cell_type": "markdown",
      "metadata": {
        "id": "6nQwjCfvSumT"
      },
      "source": [
        "### 4.3. Exercício 3: Crie um programa que leia a idade e o gênero de 5 pessoas. No final, o programa deverá mostrar:\n",
        "\n",
        "1.   Quantas pessoas de mais de 20 anos.\n",
        "2.   Quantas mulheres foram cadastradas.\n",
        "3.   Quantos homens com menos de 19 anos foram cadastrados."
      ]
    },
    {
      "cell_type": "code",
      "metadata": {
        "id": "kqFPoJTtSumT",
        "colab": {
          "base_uri": "https://localhost:8080/"
        },
        "outputId": "608bbf54-2e47-4031-d948-338224796947"
      },
      "source": [
        "qtdp = 0;\n",
        "qtdm = 0;\n",
        "qtdh = 0;\n",
        "coconut = \"la\"\n",
        "for cont in range(0,5):\n",
        "  id = int(input('Digite a idade: '))\n",
        "  g = input('Digite o gênero (m ou f): ')\n",
        "  if g == 'f' or g == 'F' or g == 'm' or  g == 'M':\n",
        "    if id > 0 and id < 125:\n",
        "      if id > 20:\n",
        "        qtdp = qtdp + 1\n",
        "      if g == 'f' or g == 'F':\n",
        "        qtdm = qtdm + 1\n",
        "      elif g == 'm' or g == 'M' and id < 19:\n",
        "        qtdh = qtdh + 1;\n",
        "      print(f\"Idade desta pessoa: {id}, gênero desta pessoa: {g}\")\n",
        "    else:\n",
        "      print (\"Digite Dados Corretos na Idade!!!\")\n",
        "      coconut = \"Dog\"\n",
        "      break\n",
        "  else:\n",
        "    print (\"Digite Dados Corretos no Gênero!!!\")\n",
        "    coconut = \"Dog\"\n",
        "    break\n",
        "\n",
        "if coconut != 'Dog':\n",
        "  print(f\"Quantidade de Pessoas de mais de 20 anos: {qtdp}\")\n",
        "  print(f\"Quantidade de Mulheres cadastradas: {qtdm}\")\n",
        "  print(f\"Quantidade de Homens com menos de 19 anos: {qtdh}\")\n",
        "\n",
        "\n"
      ],
      "execution_count": null,
      "outputs": [
        {
          "output_type": "stream",
          "name": "stdout",
          "text": [
            "Digite a idade: 16\n",
            "Digite o gênero (m ou f): m\n",
            "Idade desta pessoa: 16, gênero desta pessoa: m\n",
            "Digite a idade: 29\n",
            "Digite o gênero (m ou f): f\n",
            "Idade desta pessoa: 29, gênero desta pessoa: f\n",
            "Digite a idade: 28\n",
            "Digite o gênero (m ou f): f\n",
            "Idade desta pessoa: 28, gênero desta pessoa: f\n",
            "Digite a idade: 27\n",
            "Digite o gênero (m ou f): f\n",
            "Idade desta pessoa: 27, gênero desta pessoa: f\n",
            "Digite a idade: 26\n",
            "Digite o gênero (m ou f): f\n",
            "Idade desta pessoa: 26, gênero desta pessoa: f\n",
            "Quantidade de Pessoas de mais de 20 anos: 4\n",
            "Quantidade de Mulheres cadastradas: 4\n",
            "Quantidade de Homens com menos de 19 anos: 1\n"
          ]
        }
      ]
    }
  ]
}